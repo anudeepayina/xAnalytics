{
 "cells": [
  {
   "cell_type": "code",
   "execution_count": 8,
   "id": "963bb15f-7561-4651-b903-9be3e6d179b4",
   "metadata": {},
   "outputs": [],
   "source": [
    "import pandas as pd\n",
    "import seaborn as sns\n",
    "import scipy as sc\n",
    "import numpy as np\n",
    "pd.set_option('display.max_columns', None)\n",
    "sns.set_theme(\"notebook\")"
   ]
  },
  {
   "cell_type": "code",
   "execution_count": 9,
   "id": "3ccd672c-c438-4c91-b5bc-8ef58a91f7e8",
   "metadata": {},
   "outputs": [
    {
     "name": "stderr",
     "output_type": "stream",
     "text": [
      "C:\\Users\\anude\\AppData\\Local\\Programs\\Python\\Python38\\lib\\site-packages\\IPython\\core\\interactiveshell.py:3269: DtypeWarning: Columns (0,46) have mixed types.Specify dtype option on import or set low_memory=False.\n",
      "  has_raised = await self.run_ast_nodes(code_ast.body, cell_name,\n"
     ]
    }
   ],
   "source": [
    "df = pd.read_csv(r'C:\\Users\\anude\\Desktop\\Jupyter Notebook Projects\\Cricket NSW\\Data\\T20_Data.csv')"
   ]
  },
  {
   "cell_type": "code",
   "execution_count": 10,
   "id": "87af389d-8509-41b2-9ec4-321fc49b112c",
   "metadata": {},
   "outputs": [
    {
     "ename": "KeyError",
     "evalue": "'Release Y'",
     "output_type": "error",
     "traceback": [
      "\u001b[1;31m---------------------------------------------------------------------------\u001b[0m",
      "\u001b[1;31mKeyError\u001b[0m                                  Traceback (most recent call last)",
      "File \u001b[1;32m~\\AppData\\Local\\Programs\\Python\\Python38\\lib\\site-packages\\pandas\\core\\indexes\\base.py:3080\u001b[0m, in \u001b[0;36mIndex.get_loc\u001b[1;34m(self, key, method, tolerance)\u001b[0m\n\u001b[0;32m   3079\u001b[0m \u001b[38;5;28;01mtry\u001b[39;00m:\n\u001b[1;32m-> 3080\u001b[0m     \u001b[38;5;28;01mreturn\u001b[39;00m \u001b[38;5;28;43mself\u001b[39;49m\u001b[38;5;241;43m.\u001b[39;49m\u001b[43m_engine\u001b[49m\u001b[38;5;241;43m.\u001b[39;49m\u001b[43mget_loc\u001b[49m\u001b[43m(\u001b[49m\u001b[43mcasted_key\u001b[49m\u001b[43m)\u001b[49m\n\u001b[0;32m   3081\u001b[0m \u001b[38;5;28;01mexcept\u001b[39;00m \u001b[38;5;167;01mKeyError\u001b[39;00m \u001b[38;5;28;01mas\u001b[39;00m err:\n",
      "File \u001b[1;32mpandas\\_libs\\index.pyx:70\u001b[0m, in \u001b[0;36mpandas._libs.index.IndexEngine.get_loc\u001b[1;34m()\u001b[0m\n",
      "File \u001b[1;32mpandas\\_libs\\index.pyx:101\u001b[0m, in \u001b[0;36mpandas._libs.index.IndexEngine.get_loc\u001b[1;34m()\u001b[0m\n",
      "File \u001b[1;32mpandas\\_libs\\hashtable_class_helper.pxi:4554\u001b[0m, in \u001b[0;36mpandas._libs.hashtable.PyObjectHashTable.get_item\u001b[1;34m()\u001b[0m\n",
      "File \u001b[1;32mpandas\\_libs\\hashtable_class_helper.pxi:4562\u001b[0m, in \u001b[0;36mpandas._libs.hashtable.PyObjectHashTable.get_item\u001b[1;34m()\u001b[0m\n",
      "\u001b[1;31mKeyError\u001b[0m: 'Release Y'",
      "\nThe above exception was the direct cause of the following exception:\n",
      "\u001b[1;31mKeyError\u001b[0m                                  Traceback (most recent call last)",
      "Cell \u001b[1;32mIn[10], line 1\u001b[0m\n\u001b[1;32m----> 1\u001b[0m \u001b[43mdf\u001b[49m\u001b[43m[\u001b[49m\u001b[38;5;124;43m'\u001b[39;49m\u001b[38;5;124;43mRelease Y\u001b[39;49m\u001b[38;5;124;43m'\u001b[39;49m\u001b[43m]\u001b[49m\u001b[38;5;241m.\u001b[39mdescribe()\n",
      "File \u001b[1;32m~\\AppData\\Local\\Programs\\Python\\Python38\\lib\\site-packages\\pandas\\core\\frame.py:3024\u001b[0m, in \u001b[0;36mDataFrame.__getitem__\u001b[1;34m(self, key)\u001b[0m\n\u001b[0;32m   3022\u001b[0m \u001b[38;5;28;01mif\u001b[39;00m \u001b[38;5;28mself\u001b[39m\u001b[38;5;241m.\u001b[39mcolumns\u001b[38;5;241m.\u001b[39mnlevels \u001b[38;5;241m>\u001b[39m \u001b[38;5;241m1\u001b[39m:\n\u001b[0;32m   3023\u001b[0m     \u001b[38;5;28;01mreturn\u001b[39;00m \u001b[38;5;28mself\u001b[39m\u001b[38;5;241m.\u001b[39m_getitem_multilevel(key)\n\u001b[1;32m-> 3024\u001b[0m indexer \u001b[38;5;241m=\u001b[39m \u001b[38;5;28;43mself\u001b[39;49m\u001b[38;5;241;43m.\u001b[39;49m\u001b[43mcolumns\u001b[49m\u001b[38;5;241;43m.\u001b[39;49m\u001b[43mget_loc\u001b[49m\u001b[43m(\u001b[49m\u001b[43mkey\u001b[49m\u001b[43m)\u001b[49m\n\u001b[0;32m   3025\u001b[0m \u001b[38;5;28;01mif\u001b[39;00m is_integer(indexer):\n\u001b[0;32m   3026\u001b[0m     indexer \u001b[38;5;241m=\u001b[39m [indexer]\n",
      "File \u001b[1;32m~\\AppData\\Local\\Programs\\Python\\Python38\\lib\\site-packages\\pandas\\core\\indexes\\base.py:3082\u001b[0m, in \u001b[0;36mIndex.get_loc\u001b[1;34m(self, key, method, tolerance)\u001b[0m\n\u001b[0;32m   3080\u001b[0m         \u001b[38;5;28;01mreturn\u001b[39;00m \u001b[38;5;28mself\u001b[39m\u001b[38;5;241m.\u001b[39m_engine\u001b[38;5;241m.\u001b[39mget_loc(casted_key)\n\u001b[0;32m   3081\u001b[0m     \u001b[38;5;28;01mexcept\u001b[39;00m \u001b[38;5;167;01mKeyError\u001b[39;00m \u001b[38;5;28;01mas\u001b[39;00m err:\n\u001b[1;32m-> 3082\u001b[0m         \u001b[38;5;28;01mraise\u001b[39;00m \u001b[38;5;167;01mKeyError\u001b[39;00m(key) \u001b[38;5;28;01mfrom\u001b[39;00m \u001b[38;5;21;01merr\u001b[39;00m\n\u001b[0;32m   3084\u001b[0m \u001b[38;5;28;01mif\u001b[39;00m tolerance \u001b[38;5;129;01mis\u001b[39;00m \u001b[38;5;129;01mnot\u001b[39;00m \u001b[38;5;28;01mNone\u001b[39;00m:\n\u001b[0;32m   3085\u001b[0m     tolerance \u001b[38;5;241m=\u001b[39m \u001b[38;5;28mself\u001b[39m\u001b[38;5;241m.\u001b[39m_convert_tolerance(tolerance, np\u001b[38;5;241m.\u001b[39masarray(key))\n",
      "\u001b[1;31mKeyError\u001b[0m: 'Release Y'"
     ]
    }
   ],
   "source": [
    "df['Release Y'].describe()"
   ]
  },
  {
   "cell_type": "code",
   "execution_count": 3,
   "id": "b37cdfed-3c94-429b-ba30-b64a794a1c28",
   "metadata": {},
   "outputs": [],
   "source": [
    "df['wicket'] = 0\n",
    "df.loc[df['How Out'].isin(['C','B','LB','S']), 'wicket'] = 1"
   ]
  },
  {
   "cell_type": "code",
   "execution_count": 4,
   "id": "01a61de0-20d9-48a5-aae0-85e64d67fc38",
   "metadata": {},
   "outputs": [],
   "source": [
    "df = df[[\n",
    "    'wicket'\n",
    "    , 'Pitch X'\n",
    "    , 'Pitch Y'\n",
    "    , 'Ball Speed'\n",
    "    , 'At Stumps X'\n",
    "    , 'At Stumps Y'\n",
    "    , 'Movement In Air'\n",
    "    , 'Movement Off Pitch'\n",
    "    , 'Bounce Angle'\n",
    "    , 'Bounce Angle Delta'\n",
    "    , 'Drop Angle'\n",
    "    , 'Bowler Style'\n",
    "    , 'Bowler Hand'\n",
    "    , 'Striker Hand'\n",
    "    , 'Match Id'\n",
    "    , 'MatchInnings'\n",
    "    , 'Over'\n",
    "    , 'Ball In Over'\n",
    "]]"
   ]
  },
  {
   "cell_type": "code",
   "execution_count": 5,
   "id": "592be73f-71df-4081-bf65-2408fd10df4f",
   "metadata": {},
   "outputs": [],
   "source": [
    "df = df.loc[\n",
    "            (df['Ball Speed'] >= 80)\n",
    "            & (df['Ball Speed'] <= 160)\n",
    "            & (df['Movement In Air'] <= 5)\n",
    "            & (df['Movement In Air'] >= -5)\n",
    "            & (df['Movement Off Pitch'] <= 5)\n",
    "            & (df['Movement Off Pitch'] >= -5)\n",
    "            & (df['Bounce Angle']<=15)\n",
    "            & (df['Bounce Angle Delta']<=8)\n",
    "            & (df['Bounce Angle Delta']!=80)\n",
    "            & (df['Drop Angle']!=0)\n",
    "            & (df['Drop Angle']<=-8)\n",
    "            & (df['Drop Angle']>=-20)\n",
    "            & (df['Bowler Style']!='Unknown')\n",
    "            & (df['Pitch X'] <=1525)\n",
    "            & (df['Pitch X'] >=-1525)\n",
    "            & (df['Pitch Y'] <= 13000)\n",
    "            & (df['Pitch Y'] >= -2000)\n",
    "            & (df['At Stumps Y']>=0)\n",
    "            & (df['At Stumps Y']<=2000)\n",
    "                ]\\\n",
    "                .reset_index(drop=True)"
   ]
  },
  {
   "cell_type": "code",
   "execution_count": 8,
   "id": "43a8af7f-d962-43ca-9caf-40bb3b4e0e44",
   "metadata": {},
   "outputs": [],
   "source": [
    "df = df.sort_values(by=['Match Id', 'MatchInnings', 'Over', 'Ball In Over']).reset_index(drop=True)"
   ]
  },
  {
   "cell_type": "code",
   "execution_count": 38,
   "id": "1c6b52f9-43bc-4915-b877-0e70ecbaa1fb",
   "metadata": {},
   "outputs": [],
   "source": [
    "pitch_x_buckets = np.arange(-1500,1650,100)"
   ]
  },
  {
   "cell_type": "code",
   "execution_count": 39,
   "id": "371bf13b-aa12-4f05-800b-006ddde403a8",
   "metadata": {},
   "outputs": [
    {
     "data": {
      "text/plain": [
       "array([-1500, -1400, -1300, -1200, -1100, -1000,  -900,  -800,  -700,\n",
       "        -600,  -500,  -400,  -300,  -200,  -100,     0,   100,   200,\n",
       "         300,   400,   500,   600,   700,   800,   900,  1000,  1100,\n",
       "        1200,  1300,  1400,  1500,  1600])"
      ]
     },
     "execution_count": 39,
     "metadata": {},
     "output_type": "execute_result"
    }
   ],
   "source": [
    "pitch_x_buckets"
   ]
  },
  {
   "cell_type": "code",
   "execution_count": 47,
   "id": "bcde5a70-8004-4d94-afe4-b37e849d451a",
   "metadata": {},
   "outputs": [],
   "source": [
    "df['Pitch X Bins'] = pd.cut(df['Pitch X'], pitch_x_buckets, labels=range(len(pitch_x_buckets)-1))"
   ]
  },
  {
   "cell_type": "code",
   "execution_count": 48,
   "id": "ed7c5ea1-8807-490e-b55a-9fe2fb4358c5",
   "metadata": {},
   "outputs": [
    {
     "data": {
      "text/html": [
       "<div>\n",
       "<style scoped>\n",
       "    .dataframe tbody tr th:only-of-type {\n",
       "        vertical-align: middle;\n",
       "    }\n",
       "\n",
       "    .dataframe tbody tr th {\n",
       "        vertical-align: top;\n",
       "    }\n",
       "\n",
       "    .dataframe thead th {\n",
       "        text-align: right;\n",
       "    }\n",
       "</style>\n",
       "<table border=\"1\" class=\"dataframe\">\n",
       "  <thead>\n",
       "    <tr style=\"text-align: right;\">\n",
       "      <th></th>\n",
       "      <th>Pitch X</th>\n",
       "      <th>Pitch X Bins</th>\n",
       "    </tr>\n",
       "  </thead>\n",
       "  <tbody>\n",
       "    <tr>\n",
       "      <th>0</th>\n",
       "      <td>261</td>\n",
       "      <td>17</td>\n",
       "    </tr>\n",
       "    <tr>\n",
       "      <th>1</th>\n",
       "      <td>320</td>\n",
       "      <td>18</td>\n",
       "    </tr>\n",
       "    <tr>\n",
       "      <th>2</th>\n",
       "      <td>-57</td>\n",
       "      <td>14</td>\n",
       "    </tr>\n",
       "    <tr>\n",
       "      <th>3</th>\n",
       "      <td>1019</td>\n",
       "      <td>25</td>\n",
       "    </tr>\n",
       "    <tr>\n",
       "      <th>4</th>\n",
       "      <td>548</td>\n",
       "      <td>20</td>\n",
       "    </tr>\n",
       "    <tr>\n",
       "      <th>...</th>\n",
       "      <td>...</td>\n",
       "      <td>...</td>\n",
       "    </tr>\n",
       "    <tr>\n",
       "      <th>182898</th>\n",
       "      <td>760</td>\n",
       "      <td>22</td>\n",
       "    </tr>\n",
       "    <tr>\n",
       "      <th>182899</th>\n",
       "      <td>861</td>\n",
       "      <td>23</td>\n",
       "    </tr>\n",
       "    <tr>\n",
       "      <th>182900</th>\n",
       "      <td>763</td>\n",
       "      <td>22</td>\n",
       "    </tr>\n",
       "    <tr>\n",
       "      <th>182901</th>\n",
       "      <td>1049</td>\n",
       "      <td>25</td>\n",
       "    </tr>\n",
       "    <tr>\n",
       "      <th>182902</th>\n",
       "      <td>-255</td>\n",
       "      <td>12</td>\n",
       "    </tr>\n",
       "  </tbody>\n",
       "</table>\n",
       "<p>182903 rows × 2 columns</p>\n",
       "</div>"
      ],
      "text/plain": [
       "        Pitch X Pitch X Bins\n",
       "0           261           17\n",
       "1           320           18\n",
       "2           -57           14\n",
       "3          1019           25\n",
       "4           548           20\n",
       "...         ...          ...\n",
       "182898      760           22\n",
       "182899      861           23\n",
       "182900      763           22\n",
       "182901     1049           25\n",
       "182902     -255           12\n",
       "\n",
       "[182903 rows x 2 columns]"
      ]
     },
     "execution_count": 48,
     "metadata": {},
     "output_type": "execute_result"
    }
   ],
   "source": [
    "df[['Pitch X','Pitch X Bins']]"
   ]
  },
  {
   "cell_type": "code",
   "execution_count": 43,
   "id": "fcbc85d9-1dc9-48fb-9692-38d3db7a52f0",
   "metadata": {},
   "outputs": [
    {
     "data": {
      "text/html": [
       "<div>\n",
       "<style scoped>\n",
       "    .dataframe tbody tr th:only-of-type {\n",
       "        vertical-align: middle;\n",
       "    }\n",
       "\n",
       "    .dataframe tbody tr th {\n",
       "        vertical-align: top;\n",
       "    }\n",
       "\n",
       "    .dataframe thead th {\n",
       "        text-align: right;\n",
       "    }\n",
       "</style>\n",
       "<table border=\"1\" class=\"dataframe\">\n",
       "  <thead>\n",
       "    <tr style=\"text-align: right;\">\n",
       "      <th></th>\n",
       "      <th>(-1500, -1400]</th>\n",
       "      <th>(-1400, -1300]</th>\n",
       "      <th>(-1300, -1200]</th>\n",
       "      <th>(-1200, -1100]</th>\n",
       "      <th>(-1100, -1000]</th>\n",
       "      <th>(-1000, -900]</th>\n",
       "      <th>(-900, -800]</th>\n",
       "      <th>(-800, -700]</th>\n",
       "      <th>(-700, -600]</th>\n",
       "      <th>(-600, -500]</th>\n",
       "      <th>(-500, -400]</th>\n",
       "      <th>(-400, -300]</th>\n",
       "      <th>(-300, -200]</th>\n",
       "      <th>(-200, -100]</th>\n",
       "      <th>(-100, 0]</th>\n",
       "      <th>(0, 100]</th>\n",
       "      <th>(100, 200]</th>\n",
       "      <th>(200, 300]</th>\n",
       "      <th>(300, 400]</th>\n",
       "      <th>(400, 500]</th>\n",
       "      <th>(500, 600]</th>\n",
       "      <th>(600, 700]</th>\n",
       "      <th>(700, 800]</th>\n",
       "      <th>(800, 900]</th>\n",
       "      <th>(900, 1000]</th>\n",
       "      <th>(1000, 1100]</th>\n",
       "      <th>(1100, 1200]</th>\n",
       "      <th>(1200, 1300]</th>\n",
       "      <th>(1300, 1400]</th>\n",
       "      <th>(1400, 1500]</th>\n",
       "      <th>(1500, 1600]</th>\n",
       "    </tr>\n",
       "  </thead>\n",
       "  <tbody>\n",
       "    <tr>\n",
       "      <th>0</th>\n",
       "      <td>0</td>\n",
       "      <td>0</td>\n",
       "      <td>0</td>\n",
       "      <td>0</td>\n",
       "      <td>0</td>\n",
       "      <td>0</td>\n",
       "      <td>0</td>\n",
       "      <td>0</td>\n",
       "      <td>0</td>\n",
       "      <td>0</td>\n",
       "      <td>0</td>\n",
       "      <td>0</td>\n",
       "      <td>0</td>\n",
       "      <td>0</td>\n",
       "      <td>0</td>\n",
       "      <td>0</td>\n",
       "      <td>0</td>\n",
       "      <td>1</td>\n",
       "      <td>0</td>\n",
       "      <td>0</td>\n",
       "      <td>0</td>\n",
       "      <td>0</td>\n",
       "      <td>0</td>\n",
       "      <td>0</td>\n",
       "      <td>0</td>\n",
       "      <td>0</td>\n",
       "      <td>0</td>\n",
       "      <td>0</td>\n",
       "      <td>0</td>\n",
       "      <td>0</td>\n",
       "      <td>0</td>\n",
       "    </tr>\n",
       "    <tr>\n",
       "      <th>1</th>\n",
       "      <td>0</td>\n",
       "      <td>0</td>\n",
       "      <td>0</td>\n",
       "      <td>0</td>\n",
       "      <td>0</td>\n",
       "      <td>0</td>\n",
       "      <td>0</td>\n",
       "      <td>0</td>\n",
       "      <td>0</td>\n",
       "      <td>0</td>\n",
       "      <td>0</td>\n",
       "      <td>0</td>\n",
       "      <td>0</td>\n",
       "      <td>0</td>\n",
       "      <td>0</td>\n",
       "      <td>0</td>\n",
       "      <td>0</td>\n",
       "      <td>0</td>\n",
       "      <td>1</td>\n",
       "      <td>0</td>\n",
       "      <td>0</td>\n",
       "      <td>0</td>\n",
       "      <td>0</td>\n",
       "      <td>0</td>\n",
       "      <td>0</td>\n",
       "      <td>0</td>\n",
       "      <td>0</td>\n",
       "      <td>0</td>\n",
       "      <td>0</td>\n",
       "      <td>0</td>\n",
       "      <td>0</td>\n",
       "    </tr>\n",
       "    <tr>\n",
       "      <th>2</th>\n",
       "      <td>0</td>\n",
       "      <td>0</td>\n",
       "      <td>0</td>\n",
       "      <td>0</td>\n",
       "      <td>0</td>\n",
       "      <td>0</td>\n",
       "      <td>0</td>\n",
       "      <td>0</td>\n",
       "      <td>0</td>\n",
       "      <td>0</td>\n",
       "      <td>0</td>\n",
       "      <td>0</td>\n",
       "      <td>0</td>\n",
       "      <td>0</td>\n",
       "      <td>1</td>\n",
       "      <td>0</td>\n",
       "      <td>0</td>\n",
       "      <td>0</td>\n",
       "      <td>0</td>\n",
       "      <td>0</td>\n",
       "      <td>0</td>\n",
       "      <td>0</td>\n",
       "      <td>0</td>\n",
       "      <td>0</td>\n",
       "      <td>0</td>\n",
       "      <td>0</td>\n",
       "      <td>0</td>\n",
       "      <td>0</td>\n",
       "      <td>0</td>\n",
       "      <td>0</td>\n",
       "      <td>0</td>\n",
       "    </tr>\n",
       "    <tr>\n",
       "      <th>3</th>\n",
       "      <td>0</td>\n",
       "      <td>0</td>\n",
       "      <td>0</td>\n",
       "      <td>0</td>\n",
       "      <td>0</td>\n",
       "      <td>0</td>\n",
       "      <td>0</td>\n",
       "      <td>0</td>\n",
       "      <td>0</td>\n",
       "      <td>0</td>\n",
       "      <td>0</td>\n",
       "      <td>0</td>\n",
       "      <td>0</td>\n",
       "      <td>0</td>\n",
       "      <td>0</td>\n",
       "      <td>0</td>\n",
       "      <td>0</td>\n",
       "      <td>0</td>\n",
       "      <td>0</td>\n",
       "      <td>0</td>\n",
       "      <td>0</td>\n",
       "      <td>0</td>\n",
       "      <td>0</td>\n",
       "      <td>0</td>\n",
       "      <td>0</td>\n",
       "      <td>1</td>\n",
       "      <td>0</td>\n",
       "      <td>0</td>\n",
       "      <td>0</td>\n",
       "      <td>0</td>\n",
       "      <td>0</td>\n",
       "    </tr>\n",
       "    <tr>\n",
       "      <th>4</th>\n",
       "      <td>0</td>\n",
       "      <td>0</td>\n",
       "      <td>0</td>\n",
       "      <td>0</td>\n",
       "      <td>0</td>\n",
       "      <td>0</td>\n",
       "      <td>0</td>\n",
       "      <td>0</td>\n",
       "      <td>0</td>\n",
       "      <td>0</td>\n",
       "      <td>0</td>\n",
       "      <td>0</td>\n",
       "      <td>0</td>\n",
       "      <td>0</td>\n",
       "      <td>0</td>\n",
       "      <td>0</td>\n",
       "      <td>0</td>\n",
       "      <td>0</td>\n",
       "      <td>0</td>\n",
       "      <td>0</td>\n",
       "      <td>1</td>\n",
       "      <td>0</td>\n",
       "      <td>0</td>\n",
       "      <td>0</td>\n",
       "      <td>0</td>\n",
       "      <td>0</td>\n",
       "      <td>0</td>\n",
       "      <td>0</td>\n",
       "      <td>0</td>\n",
       "      <td>0</td>\n",
       "      <td>0</td>\n",
       "    </tr>\n",
       "    <tr>\n",
       "      <th>...</th>\n",
       "      <td>...</td>\n",
       "      <td>...</td>\n",
       "      <td>...</td>\n",
       "      <td>...</td>\n",
       "      <td>...</td>\n",
       "      <td>...</td>\n",
       "      <td>...</td>\n",
       "      <td>...</td>\n",
       "      <td>...</td>\n",
       "      <td>...</td>\n",
       "      <td>...</td>\n",
       "      <td>...</td>\n",
       "      <td>...</td>\n",
       "      <td>...</td>\n",
       "      <td>...</td>\n",
       "      <td>...</td>\n",
       "      <td>...</td>\n",
       "      <td>...</td>\n",
       "      <td>...</td>\n",
       "      <td>...</td>\n",
       "      <td>...</td>\n",
       "      <td>...</td>\n",
       "      <td>...</td>\n",
       "      <td>...</td>\n",
       "      <td>...</td>\n",
       "      <td>...</td>\n",
       "      <td>...</td>\n",
       "      <td>...</td>\n",
       "      <td>...</td>\n",
       "      <td>...</td>\n",
       "      <td>...</td>\n",
       "    </tr>\n",
       "    <tr>\n",
       "      <th>182898</th>\n",
       "      <td>0</td>\n",
       "      <td>0</td>\n",
       "      <td>0</td>\n",
       "      <td>0</td>\n",
       "      <td>0</td>\n",
       "      <td>0</td>\n",
       "      <td>0</td>\n",
       "      <td>0</td>\n",
       "      <td>0</td>\n",
       "      <td>0</td>\n",
       "      <td>0</td>\n",
       "      <td>0</td>\n",
       "      <td>0</td>\n",
       "      <td>0</td>\n",
       "      <td>0</td>\n",
       "      <td>0</td>\n",
       "      <td>0</td>\n",
       "      <td>0</td>\n",
       "      <td>0</td>\n",
       "      <td>0</td>\n",
       "      <td>0</td>\n",
       "      <td>0</td>\n",
       "      <td>1</td>\n",
       "      <td>0</td>\n",
       "      <td>0</td>\n",
       "      <td>0</td>\n",
       "      <td>0</td>\n",
       "      <td>0</td>\n",
       "      <td>0</td>\n",
       "      <td>0</td>\n",
       "      <td>0</td>\n",
       "    </tr>\n",
       "    <tr>\n",
       "      <th>182899</th>\n",
       "      <td>0</td>\n",
       "      <td>0</td>\n",
       "      <td>0</td>\n",
       "      <td>0</td>\n",
       "      <td>0</td>\n",
       "      <td>0</td>\n",
       "      <td>0</td>\n",
       "      <td>0</td>\n",
       "      <td>0</td>\n",
       "      <td>0</td>\n",
       "      <td>0</td>\n",
       "      <td>0</td>\n",
       "      <td>0</td>\n",
       "      <td>0</td>\n",
       "      <td>0</td>\n",
       "      <td>0</td>\n",
       "      <td>0</td>\n",
       "      <td>0</td>\n",
       "      <td>0</td>\n",
       "      <td>0</td>\n",
       "      <td>0</td>\n",
       "      <td>0</td>\n",
       "      <td>0</td>\n",
       "      <td>1</td>\n",
       "      <td>0</td>\n",
       "      <td>0</td>\n",
       "      <td>0</td>\n",
       "      <td>0</td>\n",
       "      <td>0</td>\n",
       "      <td>0</td>\n",
       "      <td>0</td>\n",
       "    </tr>\n",
       "    <tr>\n",
       "      <th>182900</th>\n",
       "      <td>0</td>\n",
       "      <td>0</td>\n",
       "      <td>0</td>\n",
       "      <td>0</td>\n",
       "      <td>0</td>\n",
       "      <td>0</td>\n",
       "      <td>0</td>\n",
       "      <td>0</td>\n",
       "      <td>0</td>\n",
       "      <td>0</td>\n",
       "      <td>0</td>\n",
       "      <td>0</td>\n",
       "      <td>0</td>\n",
       "      <td>0</td>\n",
       "      <td>0</td>\n",
       "      <td>0</td>\n",
       "      <td>0</td>\n",
       "      <td>0</td>\n",
       "      <td>0</td>\n",
       "      <td>0</td>\n",
       "      <td>0</td>\n",
       "      <td>0</td>\n",
       "      <td>1</td>\n",
       "      <td>0</td>\n",
       "      <td>0</td>\n",
       "      <td>0</td>\n",
       "      <td>0</td>\n",
       "      <td>0</td>\n",
       "      <td>0</td>\n",
       "      <td>0</td>\n",
       "      <td>0</td>\n",
       "    </tr>\n",
       "    <tr>\n",
       "      <th>182901</th>\n",
       "      <td>0</td>\n",
       "      <td>0</td>\n",
       "      <td>0</td>\n",
       "      <td>0</td>\n",
       "      <td>0</td>\n",
       "      <td>0</td>\n",
       "      <td>0</td>\n",
       "      <td>0</td>\n",
       "      <td>0</td>\n",
       "      <td>0</td>\n",
       "      <td>0</td>\n",
       "      <td>0</td>\n",
       "      <td>0</td>\n",
       "      <td>0</td>\n",
       "      <td>0</td>\n",
       "      <td>0</td>\n",
       "      <td>0</td>\n",
       "      <td>0</td>\n",
       "      <td>0</td>\n",
       "      <td>0</td>\n",
       "      <td>0</td>\n",
       "      <td>0</td>\n",
       "      <td>0</td>\n",
       "      <td>0</td>\n",
       "      <td>0</td>\n",
       "      <td>1</td>\n",
       "      <td>0</td>\n",
       "      <td>0</td>\n",
       "      <td>0</td>\n",
       "      <td>0</td>\n",
       "      <td>0</td>\n",
       "    </tr>\n",
       "    <tr>\n",
       "      <th>182902</th>\n",
       "      <td>0</td>\n",
       "      <td>0</td>\n",
       "      <td>0</td>\n",
       "      <td>0</td>\n",
       "      <td>0</td>\n",
       "      <td>0</td>\n",
       "      <td>0</td>\n",
       "      <td>0</td>\n",
       "      <td>0</td>\n",
       "      <td>0</td>\n",
       "      <td>0</td>\n",
       "      <td>0</td>\n",
       "      <td>1</td>\n",
       "      <td>0</td>\n",
       "      <td>0</td>\n",
       "      <td>0</td>\n",
       "      <td>0</td>\n",
       "      <td>0</td>\n",
       "      <td>0</td>\n",
       "      <td>0</td>\n",
       "      <td>0</td>\n",
       "      <td>0</td>\n",
       "      <td>0</td>\n",
       "      <td>0</td>\n",
       "      <td>0</td>\n",
       "      <td>0</td>\n",
       "      <td>0</td>\n",
       "      <td>0</td>\n",
       "      <td>0</td>\n",
       "      <td>0</td>\n",
       "      <td>0</td>\n",
       "    </tr>\n",
       "  </tbody>\n",
       "</table>\n",
       "<p>182903 rows × 31 columns</p>\n",
       "</div>"
      ],
      "text/plain": [
       "        (-1500, -1400]  (-1400, -1300]  (-1300, -1200]  (-1200, -1100]  \\\n",
       "0                    0               0               0               0   \n",
       "1                    0               0               0               0   \n",
       "2                    0               0               0               0   \n",
       "3                    0               0               0               0   \n",
       "4                    0               0               0               0   \n",
       "...                ...             ...             ...             ...   \n",
       "182898               0               0               0               0   \n",
       "182899               0               0               0               0   \n",
       "182900               0               0               0               0   \n",
       "182901               0               0               0               0   \n",
       "182902               0               0               0               0   \n",
       "\n",
       "        (-1100, -1000]  (-1000, -900]  (-900, -800]  (-800, -700]  \\\n",
       "0                    0              0             0             0   \n",
       "1                    0              0             0             0   \n",
       "2                    0              0             0             0   \n",
       "3                    0              0             0             0   \n",
       "4                    0              0             0             0   \n",
       "...                ...            ...           ...           ...   \n",
       "182898               0              0             0             0   \n",
       "182899               0              0             0             0   \n",
       "182900               0              0             0             0   \n",
       "182901               0              0             0             0   \n",
       "182902               0              0             0             0   \n",
       "\n",
       "        (-700, -600]  (-600, -500]  (-500, -400]  (-400, -300]  (-300, -200]  \\\n",
       "0                  0             0             0             0             0   \n",
       "1                  0             0             0             0             0   \n",
       "2                  0             0             0             0             0   \n",
       "3                  0             0             0             0             0   \n",
       "4                  0             0             0             0             0   \n",
       "...              ...           ...           ...           ...           ...   \n",
       "182898             0             0             0             0             0   \n",
       "182899             0             0             0             0             0   \n",
       "182900             0             0             0             0             0   \n",
       "182901             0             0             0             0             0   \n",
       "182902             0             0             0             0             1   \n",
       "\n",
       "        (-200, -100]  (-100, 0]  (0, 100]  (100, 200]  (200, 300]  (300, 400]  \\\n",
       "0                  0          0         0           0           1           0   \n",
       "1                  0          0         0           0           0           1   \n",
       "2                  0          1         0           0           0           0   \n",
       "3                  0          0         0           0           0           0   \n",
       "4                  0          0         0           0           0           0   \n",
       "...              ...        ...       ...         ...         ...         ...   \n",
       "182898             0          0         0           0           0           0   \n",
       "182899             0          0         0           0           0           0   \n",
       "182900             0          0         0           0           0           0   \n",
       "182901             0          0         0           0           0           0   \n",
       "182902             0          0         0           0           0           0   \n",
       "\n",
       "        (400, 500]  (500, 600]  (600, 700]  (700, 800]  (800, 900]  \\\n",
       "0                0           0           0           0           0   \n",
       "1                0           0           0           0           0   \n",
       "2                0           0           0           0           0   \n",
       "3                0           0           0           0           0   \n",
       "4                0           1           0           0           0   \n",
       "...            ...         ...         ...         ...         ...   \n",
       "182898           0           0           0           1           0   \n",
       "182899           0           0           0           0           1   \n",
       "182900           0           0           0           1           0   \n",
       "182901           0           0           0           0           0   \n",
       "182902           0           0           0           0           0   \n",
       "\n",
       "        (900, 1000]  (1000, 1100]  (1100, 1200]  (1200, 1300]  (1300, 1400]  \\\n",
       "0                 0             0             0             0             0   \n",
       "1                 0             0             0             0             0   \n",
       "2                 0             0             0             0             0   \n",
       "3                 0             1             0             0             0   \n",
       "4                 0             0             0             0             0   \n",
       "...             ...           ...           ...           ...           ...   \n",
       "182898            0             0             0             0             0   \n",
       "182899            0             0             0             0             0   \n",
       "182900            0             0             0             0             0   \n",
       "182901            0             1             0             0             0   \n",
       "182902            0             0             0             0             0   \n",
       "\n",
       "        (1400, 1500]  (1500, 1600]  \n",
       "0                  0             0  \n",
       "1                  0             0  \n",
       "2                  0             0  \n",
       "3                  0             0  \n",
       "4                  0             0  \n",
       "...              ...           ...  \n",
       "182898             0             0  \n",
       "182899             0             0  \n",
       "182900             0             0  \n",
       "182901             0             0  \n",
       "182902             0             0  \n",
       "\n",
       "[182903 rows x 31 columns]"
      ]
     },
     "execution_count": 43,
     "metadata": {},
     "output_type": "execute_result"
    }
   ],
   "source": [
    "pd.get_dummies(df['Pitch X Bins'])"
   ]
  },
  {
   "cell_type": "code",
   "execution_count": 19,
   "id": "d1247c7b-1bff-4c0b-b9f7-b769720e181f",
   "metadata": {},
   "outputs": [],
   "source": [
    "pitch_y_buckets = np.arange(-2000,13250,250)"
   ]
  },
  {
   "cell_type": "code",
   "execution_count": 27,
   "id": "77f71cfb-060f-414e-b325-5c0c869e3000",
   "metadata": {},
   "outputs": [],
   "source": [
    "at_stumps_x_buckets = np.arange(-1750,2250,100)"
   ]
  },
  {
   "cell_type": "code",
   "execution_count": 28,
   "id": "b055da9e-b1cc-4718-8bfd-477fee759037",
   "metadata": {},
   "outputs": [
    {
     "data": {
      "text/plain": [
       "array([-1750, -1650, -1550, -1450, -1350, -1250, -1150, -1050,  -950,\n",
       "        -850,  -750,  -650,  -550,  -450,  -350,  -250,  -150,   -50,\n",
       "          50,   150,   250,   350,   450,   550,   650,   750,   850,\n",
       "         950,  1050,  1150,  1250,  1350,  1450,  1550,  1650,  1750,\n",
       "        1850,  1950,  2050,  2150])"
      ]
     },
     "execution_count": 28,
     "metadata": {},
     "output_type": "execute_result"
    }
   ],
   "source": [
    "at_stumps_x_buckets"
   ]
  },
  {
   "cell_type": "code",
   "execution_count": 36,
   "id": "d43d30f9-9036-445a-8680-4b7802ee899e",
   "metadata": {},
   "outputs": [],
   "source": [
    "at_stumps_y_buckets = np.arange(0,2100,100)"
   ]
  },
  {
   "cell_type": "code",
   "execution_count": 37,
   "id": "7b4ef061-c4c3-4506-ab3e-b694cc3ed7d2",
   "metadata": {},
   "outputs": [
    {
     "data": {
      "text/plain": [
       "array([   0,  100,  200,  300,  400,  500,  600,  700,  800,  900, 1000,\n",
       "       1100, 1200, 1300, 1400, 1500, 1600, 1700, 1800, 1900, 2000])"
      ]
     },
     "execution_count": 37,
     "metadata": {},
     "output_type": "execute_result"
    }
   ],
   "source": [
    "at_stumps_y_buckets"
   ]
  },
  {
   "cell_type": "code",
   "execution_count": 29,
   "id": "08b6a846-8f4e-40ae-bc7a-9d2775b333f4",
   "metadata": {},
   "outputs": [
    {
     "data": {
      "text/plain": [
       "count    182903.000000\n",
       "mean        758.868384\n",
       "std         308.305169\n",
       "min           0.000000\n",
       "25%         584.000000\n",
       "50%         738.000000\n",
       "75%         911.000000\n",
       "max        2000.000000\n",
       "Name: At Stumps Y, dtype: float64"
      ]
     },
     "execution_count": 29,
     "metadata": {},
     "output_type": "execute_result"
    }
   ],
   "source": [
    "df['At Stumps Y'].describe()"
   ]
  },
  {
   "cell_type": "code",
   "execution_count": 33,
   "id": "9442c326-0ca9-4e31-bb5e-ff5940fff3e5",
   "metadata": {},
   "outputs": [
    {
     "data": {
      "text/plain": [
       "<Axes: ylabel='At Stumps Y'>"
      ]
     },
     "execution_count": 33,
     "metadata": {},
     "output_type": "execute_result"
    },
    {
     "data": {
      "image/png": "[encoded data removed]",
      "text/plain": [
       "<Figure size 640x480 with 1 Axes>"
      ]
     },
     "metadata": {},
     "output_type": "display_data"
    }
   ],
   "source": [
    "sns.boxplot(df['At Stumps Y'])"
   ]
  },
  {
   "cell_type": "code",
   "execution_count": 55,
   "id": "85e83f11-50eb-412c-8dfa-a405fc4ac3dd",
   "metadata": {},
   "outputs": [
    {
     "data": {
      "text/plain": [
       "<Axes: xlabel='wicket', ylabel='Bounce Angle Delta'>"
      ]
     },
     "execution_count": 55,
     "metadata": {},
     "output_type": "execute_result"
    },
    {
     "data": {
      "image/png": "[encoded data removed]",
      "text/plain": [
       "<Figure size 640x480 with 1 Axes>"
      ]
     },
     "metadata": {},
     "output_type": "display_data"
    }
   ],
   "source": [
    "sns.boxplot(data=df,x='wicket',y='Bounce Angle Delta')"
   ]
  },
  {
   "cell_type": "code",
   "execution_count": 30,
   "id": "cf48d517-70eb-4447-acf5-c608aa3f3d3f",
   "metadata": {},
   "outputs": [
    {
     "data": {
      "text/plain": [
       "<seaborn.axisgrid.FacetGrid at 0x22cea352c40>"
      ]
     },
     "execution_count": 30,
     "metadata": {},
     "output_type": "execute_result"
    },
    {
     "data": {
      "image/png": "[encoded data removed]",
      "text/plain": [
       "<Figure size 500x500 with 1 Axes>"
      ]
     },
     "metadata": {},
     "output_type": "display_data"
    }
   ],
   "source": [
    "sns.displot(df['Bounce Angle Delta'])"
   ]
  },
  {
   "cell_type": "code",
   "execution_count": 44,
   "id": "10bd383d-5f50-43f6-b605-05557153cef7",
   "metadata": {},
   "outputs": [
    {
     "data": {
      "text/plain": [
       "-16.98"
      ]
     },
     "execution_count": 44,
     "metadata": {},
     "output_type": "execute_result"
    }
   ],
   "source": [
    "df.loc[df['Drop Angle']!=0]['Drop Angle'].quantile(0.1)"
   ]
  },
  {
   "cell_type": "code",
   "execution_count": 27,
   "id": "a19c3bae-ca76-4127-be17-accf10d36220",
   "metadata": {},
   "outputs": [
    {
     "data": {
      "text/plain": [
       "count    199560.000000\n",
       "mean        -13.879170\n",
       "std           2.640855\n",
       "min         -55.010000\n",
       "25%         -15.730000\n",
       "50%         -13.840000\n",
       "75%         -11.950000\n",
       "max           0.000000\n",
       "Name: Drop Angle, dtype: float64"
      ]
     },
     "execution_count": 27,
     "metadata": {},
     "output_type": "execute_result"
    }
   ],
   "source": [
    "df['Drop Angle'].describe()"
   ]
  },
  {
   "cell_type": "markdown",
   "id": "efadf839-e699-4e87-8d3c-e38a93e23a02",
   "metadata": {},
   "source": [
    "## High Level Stats"
   ]
  },
  {
   "cell_type": "code",
   "execution_count": 9,
   "id": "080670a9-21f9-466c-8d29-21fcab2b2b12",
   "metadata": {},
   "outputs": [
    {
     "name": "stdout",
     "output_type": "stream",
     "text": [
      "There have been 873 matches in this dataset, with a total of 9222 wickets taken, which is an average of 10.563573883161512 per match\n"
     ]
    }
   ],
   "source": [
    "print(f\"There have been {df['Match Id'].nunique()} matches in this dataset, with a total of {df['wicket'].sum()} wickets taken, which is an average of {df['wicket'].sum()/df['Match Id'].nunique()} per match\")"
   ]
  },
  {
   "cell_type": "code",
   "execution_count": 10,
   "id": "4a6fa794-c16b-49fe-a3d0-645b6ee8e90d",
   "metadata": {},
   "outputs": [
    {
     "data": {
      "text/html": [
       "<div>\n",
       "<style scoped>\n",
       "    .dataframe tbody tr th:only-of-type {\n",
       "        vertical-align: middle;\n",
       "    }\n",
       "\n",
       "    .dataframe tbody tr th {\n",
       "        vertical-align: top;\n",
       "    }\n",
       "\n",
       "    .dataframe thead th {\n",
       "        text-align: right;\n",
       "    }\n",
       "</style>\n",
       "<table border=\"1\" class=\"dataframe\">\n",
       "  <thead>\n",
       "    <tr style=\"text-align: right;\">\n",
       "      <th></th>\n",
       "      <th>MatchInnings</th>\n",
       "      <th>wicket</th>\n",
       "    </tr>\n",
       "  </thead>\n",
       "  <tbody>\n",
       "    <tr>\n",
       "      <th>0</th>\n",
       "      <td>1</td>\n",
       "      <td>5.536165</td>\n",
       "    </tr>\n",
       "    <tr>\n",
       "      <th>1</th>\n",
       "      <td>2</td>\n",
       "      <td>5.222090</td>\n",
       "    </tr>\n",
       "    <tr>\n",
       "      <th>2</th>\n",
       "      <td>3</td>\n",
       "      <td>0.666667</td>\n",
       "    </tr>\n",
       "    <tr>\n",
       "      <th>3</th>\n",
       "      <td>4</td>\n",
       "      <td>0.500000</td>\n",
       "    </tr>\n",
       "  </tbody>\n",
       "</table>\n",
       "</div>"
      ],
      "text/plain": [
       "   MatchInnings    wicket\n",
       "0             1  5.536165\n",
       "1             2  5.222090\n",
       "2             3  0.666667\n",
       "3             4  0.500000"
      ]
     },
     "execution_count": 10,
     "metadata": {},
     "output_type": "execute_result"
    }
   ],
   "source": [
    "df.groupby(['Match Id', 'MatchInnings']).agg({'wicket':'sum'}).reset_index().groupby(['MatchInnings']).agg({'wicket':'mean'}).reset_index()"
   ]
  },
  {
   "cell_type": "code",
   "execution_count": 96,
   "id": "46cabc38-060e-4b19-8a3b-b0ba9185c475",
   "metadata": {},
   "outputs": [
    {
     "data": {
      "text/plain": [
       "<Axes: xlabel='wicket', ylabel='Match Id'>"
      ]
     },
     "execution_count": 96,
     "metadata": {},
     "output_type": "execute_result"
    },
    {
     "data": {
      "image/png": "[encoded data removed]",
      "text/plain": [
       "<Figure size 640x480 with 1 Axes>"
      ]
     },
     "metadata": {},
     "output_type": "display_data"
    }
   ],
   "source": [
    "sns.barplot(data=df.loc[df['MatchInnings']<=2].groupby(['Match Id', 'MatchInnings']).agg({'wicket':'sum'}).reset_index().groupby(['wicket','MatchInnings']).agg({'Match Id':'count'}).reset_index(),x='wicket',y='Match Id',hue='MatchInnings')"
   ]
  },
  {
   "cell_type": "markdown",
   "id": "378bc95c-ddbc-4126-8305-4703273e7b40",
   "metadata": {},
   "source": [
    "## P(Wicket)"
   ]
  },
  {
   "cell_type": "code",
   "execution_count": 12,
   "id": "05085fa3-4807-4b07-acfa-f5bf1e85f31e",
   "metadata": {},
   "outputs": [
    {
     "data": {
      "text/plain": [
       "count    182903.000000\n",
       "mean          0.050420\n",
       "std           0.218811\n",
       "min           0.000000\n",
       "25%           0.000000\n",
       "50%           0.000000\n",
       "75%           0.000000\n",
       "max           1.000000\n",
       "Name: wicket, dtype: float64"
      ]
     },
     "execution_count": 12,
     "metadata": {},
     "output_type": "execute_result"
    }
   ],
   "source": [
    "df['wicket'].describe()"
   ]
  },
  {
   "cell_type": "code",
   "execution_count": 15,
   "id": "142afd1d-e81e-4f5b-9935-7e41bd0af83b",
   "metadata": {},
   "outputs": [
    {
     "data": {
      "text/html": [
       "<div>\n",
       "<style scoped>\n",
       "    .dataframe tbody tr th:only-of-type {\n",
       "        vertical-align: middle;\n",
       "    }\n",
       "\n",
       "    .dataframe tbody tr th {\n",
       "        vertical-align: top;\n",
       "    }\n",
       "\n",
       "    .dataframe thead th {\n",
       "        text-align: right;\n",
       "    }\n",
       "</style>\n",
       "<table border=\"1\" class=\"dataframe\">\n",
       "  <thead>\n",
       "    <tr style=\"text-align: right;\">\n",
       "      <th></th>\n",
       "      <th>wicket</th>\n",
       "    </tr>\n",
       "    <tr>\n",
       "      <th>Bowler Style</th>\n",
       "      <th></th>\n",
       "    </tr>\n",
       "  </thead>\n",
       "  <tbody>\n",
       "    <tr>\n",
       "      <th>Fast</th>\n",
       "      <td>0.053632</td>\n",
       "    </tr>\n",
       "    <tr>\n",
       "      <th>Fast-Medium</th>\n",
       "      <td>0.053747</td>\n",
       "    </tr>\n",
       "    <tr>\n",
       "      <th>Medium</th>\n",
       "      <td>0.051114</td>\n",
       "    </tr>\n",
       "    <tr>\n",
       "      <th>Orthodox</th>\n",
       "      <td>0.042609</td>\n",
       "    </tr>\n",
       "    <tr>\n",
       "      <th>Wrist</th>\n",
       "      <td>0.048502</td>\n",
       "    </tr>\n",
       "  </tbody>\n",
       "</table>\n",
       "</div>"
      ],
      "text/plain": [
       "                wicket\n",
       "Bowler Style          \n",
       "Fast          0.053632\n",
       "Fast-Medium   0.053747\n",
       "Medium        0.051114\n",
       "Orthodox      0.042609\n",
       "Wrist         0.048502"
      ]
     },
     "execution_count": 15,
     "metadata": {},
     "output_type": "execute_result"
    }
   ],
   "source": [
    "df.groupby(['Bowler Style']).agg({'wicket':'mean'})"
   ]
  },
  {
   "cell_type": "markdown",
   "id": "700392f1-9531-4438-aac2-cb866f5028c2",
   "metadata": {},
   "source": [
    "## P(Wicket) | Innings"
   ]
  },
  {
   "cell_type": "code",
   "execution_count": 98,
   "id": "b8eea3fd-5a19-4619-8898-bd6c4c49273f",
   "metadata": {},
   "outputs": [
    {
     "data": {
      "text/html": [
       "<div>\n",
       "<style scoped>\n",
       "    .dataframe tbody tr th:only-of-type {\n",
       "        vertical-align: middle;\n",
       "    }\n",
       "\n",
       "    .dataframe tbody tr th {\n",
       "        vertical-align: top;\n",
       "    }\n",
       "\n",
       "    .dataframe thead th {\n",
       "        text-align: right;\n",
       "    }\n",
       "</style>\n",
       "<table border=\"1\" class=\"dataframe\">\n",
       "  <thead>\n",
       "    <tr style=\"text-align: right;\">\n",
       "      <th></th>\n",
       "      <th>wicket</th>\n",
       "    </tr>\n",
       "    <tr>\n",
       "      <th>MatchInnings</th>\n",
       "      <th></th>\n",
       "    </tr>\n",
       "  </thead>\n",
       "  <tbody>\n",
       "    <tr>\n",
       "      <th>1</th>\n",
       "      <td>0.053555</td>\n",
       "    </tr>\n",
       "    <tr>\n",
       "      <th>2</th>\n",
       "      <td>0.054572</td>\n",
       "    </tr>\n",
       "  </tbody>\n",
       "</table>\n",
       "</div>"
      ],
      "text/plain": [
       "                wicket\n",
       "MatchInnings          \n",
       "1             0.053555\n",
       "2             0.054572"
      ]
     },
     "execution_count": 98,
     "metadata": {},
     "output_type": "execute_result"
    }
   ],
   "source": [
    "df.loc[df['MatchInnings']<=2].groupby(['MatchInnings']).agg({'wicket':'sum'})/df.loc[df['MatchInnings']<=2].groupby(['MatchInnings']).agg({'wicket':'count'})"
   ]
  },
  {
   "cell_type": "markdown",
   "id": "7cb9eabf-63da-4cea-a87a-2e551e2f1017",
   "metadata": {},
   "source": [
    "## P(Wicket) | Venue"
   ]
  },
  {
   "cell_type": "code",
   "execution_count": 99,
   "id": "f0dae3d2-eeaf-41ca-98ae-b8e3cb0062ce",
   "metadata": {},
   "outputs": [
    {
     "data": {
      "text/plain": [
       "<Axes: >"
      ]
     },
     "execution_count": 99,
     "metadata": {},
     "output_type": "execute_result"
    },
    {
     "data": {
      "image/png": "[encoded data removed]",
      "text/plain": [
       "<Figure size 640x480 with 1 Axes>"
      ]
     },
     "metadata": {},
     "output_type": "display_data"
    }
   ],
   "source": [
    "sns.boxplot(df.groupby(['Venue']).agg({'wicket':'sum'})/df.groupby(['Venue']).agg({'wicket':'count'}))"
   ]
  },
  {
   "cell_type": "code",
   "execution_count": 100,
   "id": "10d47c7a-b88b-4e81-affd-159160d9a35b",
   "metadata": {},
   "outputs": [
    {
     "data": {
      "text/html": [
       "<div>\n",
       "<style scoped>\n",
       "    .dataframe tbody tr th:only-of-type {\n",
       "        vertical-align: middle;\n",
       "    }\n",
       "\n",
       "    .dataframe tbody tr th {\n",
       "        vertical-align: top;\n",
       "    }\n",
       "\n",
       "    .dataframe thead th {\n",
       "        text-align: right;\n",
       "    }\n",
       "</style>\n",
       "<table border=\"1\" class=\"dataframe\">\n",
       "  <thead>\n",
       "    <tr style=\"text-align: right;\">\n",
       "      <th></th>\n",
       "      <th>Venue</th>\n",
       "      <th>wicket</th>\n",
       "    </tr>\n",
       "  </thead>\n",
       "  <tbody>\n",
       "    <tr>\n",
       "      <th>96</th>\n",
       "      <td>VCA Stadium Nagpur</td>\n",
       "      <td>0.092784</td>\n",
       "    </tr>\n",
       "    <tr>\n",
       "      <th>92</th>\n",
       "      <td>Traeger Park</td>\n",
       "      <td>0.079498</td>\n",
       "    </tr>\n",
       "    <tr>\n",
       "      <th>36</th>\n",
       "      <td>Headingley - Leeds</td>\n",
       "      <td>0.076305</td>\n",
       "    </tr>\n",
       "    <tr>\n",
       "      <th>62</th>\n",
       "      <td>North Sydney Oval</td>\n",
       "      <td>0.074074</td>\n",
       "    </tr>\n",
       "    <tr>\n",
       "      <th>30</th>\n",
       "      <td>Edgbaston</td>\n",
       "      <td>0.071028</td>\n",
       "    </tr>\n",
       "    <tr>\n",
       "      <th>...</th>\n",
       "      <td>...</td>\n",
       "      <td>...</td>\n",
       "    </tr>\n",
       "    <tr>\n",
       "      <th>61</th>\n",
       "      <td>Newlands - Cape Town</td>\n",
       "      <td>0.042194</td>\n",
       "    </tr>\n",
       "    <tr>\n",
       "      <th>83</th>\n",
       "      <td>St George's Park</td>\n",
       "      <td>0.040816</td>\n",
       "    </tr>\n",
       "    <tr>\n",
       "      <th>55</th>\n",
       "      <td>Multan Cricket Stadium</td>\n",
       "      <td>0.039526</td>\n",
       "    </tr>\n",
       "    <tr>\n",
       "      <th>78</th>\n",
       "      <td>Seddon Park</td>\n",
       "      <td>0.029412</td>\n",
       "    </tr>\n",
       "    <tr>\n",
       "      <th>7</th>\n",
       "      <td>Barsapara Cricket Stadium</td>\n",
       "      <td>0.026923</td>\n",
       "    </tr>\n",
       "  </tbody>\n",
       "</table>\n",
       "<p>104 rows × 2 columns</p>\n",
       "</div>"
      ],
      "text/plain": [
       "                        Venue    wicket\n",
       "96         VCA Stadium Nagpur  0.092784\n",
       "92               Traeger Park  0.079498\n",
       "36         Headingley - Leeds  0.076305\n",
       "62          North Sydney Oval  0.074074\n",
       "30                  Edgbaston  0.071028\n",
       "..                        ...       ...\n",
       "61       Newlands - Cape Town  0.042194\n",
       "83           St George's Park  0.040816\n",
       "55     Multan Cricket Stadium  0.039526\n",
       "78                Seddon Park  0.029412\n",
       "7   Barsapara Cricket Stadium  0.026923\n",
       "\n",
       "[104 rows x 2 columns]"
      ]
     },
     "execution_count": 100,
     "metadata": {},
     "output_type": "execute_result"
    }
   ],
   "source": [
    "(df.groupby(['Venue']).agg({'wicket':'sum'})/df.groupby(['Venue']).agg({'wicket':'count'})).reset_index().sort_values(by='wicket',ascending=False)"
   ]
  },
  {
   "cell_type": "markdown",
   "id": "f6173198-ea74-4d3f-b682-db2af16661c9",
   "metadata": {},
   "source": [
    "## P(Wicket) | Dot Balls"
   ]
  },
  {
   "cell_type": "code",
   "execution_count": 101,
   "id": "1047ceec-e758-4161-a69f-5ec229be2dd9",
   "metadata": {},
   "outputs": [],
   "source": [
    "df['Total Runs'] = df['Bat Score'] + df['Wides'] + df['Noballs'] + df['Byes'] + df['Legbyes']"
   ]
  },
  {
   "cell_type": "code",
   "execution_count": 103,
   "id": "e08dde24-f394-4db4-a1a3-906b6617c252",
   "metadata": {},
   "outputs": [],
   "source": [
    "def probability_after_dot_balls(df, num_dot_balls):\n",
    "    \"\"\"\n",
    "    Calculate the probability of a wicket falling after a given number of consecutive dot balls.\n",
    "\n",
    "    Args:\n",
    "    - df (pd.DataFrame): The cricket dataset with columns 'Match ID', 'innings', 'over', 'ball', 'runs', 'wicket'.\n",
    "    - num_dot_balls (int): The number of consecutive dot balls to consider.\n",
    "\n",
    "    Returns:\n",
    "    - float: The probability of a wicket falling after the specified number of dot balls.\n",
    "    \"\"\"\n",
    "    # Step 1: Sort the data\n",
    "    df = df.sort_values(by=['Match Id', 'MatchInnings', 'Over', 'Ball In Over'])\n",
    "\n",
    "    # Step 2: Create a flag for dot balls\n",
    "    df['dot_ball'] = (df['Total Runs'] == 0).astype(int)\n",
    "\n",
    "    # Step 3: Identify sequences of num_dot_balls consecutive dot balls\n",
    "    df[f'{num_dot_balls}_consecutive_dots'] = (\n",
    "        df.groupby(['Match Id', 'MatchInnings'])['dot_ball']\n",
    "        .apply(lambda x: sum(x.shift(i, fill_value=0) for i in range(num_dot_balls)) == num_dot_balls)\n",
    "    )\n",
    "\n",
    "    # Step 4: Identify deliveries following the sequences\n",
    "    df['after_consecutive_dots'] = df.groupby(['Match Id', 'MatchInnings'])[f'{num_dot_balls}_consecutive_dots'].shift(1, fill_value=False)\n",
    "\n",
    "    # Step 5: Filter for these deliveries\n",
    "    filtered_df = df[df['after_consecutive_dots']]\n",
    "\n",
    "    # Step 6: Calculate the probability of a wicket falling\n",
    "    probability_of_wicket = filtered_df['wicket'].mean()\n",
    "\n",
    "    return probability_of_wicket"
   ]
  },
  {
   "cell_type": "code",
   "execution_count": 107,
   "id": "da5070fc-41a0-4315-b92f-2f57ca33e42c",
   "metadata": {},
   "outputs": [],
   "source": [
    "results_dict = {}\n",
    "for dot_balls in range(1,12):\n",
    "    results_dict[dot_balls] = probability_after_dot_balls(df,dot_balls)"
   ]
  },
  {
   "cell_type": "code",
   "execution_count": 108,
   "id": "d020f9e4-3083-4228-a79e-5e8bb79913c7",
   "metadata": {},
   "outputs": [
    {
     "data": {
      "text/plain": [
       "{1: 0.05361121092346389,\n",
       " 2: 0.05015496258220576,\n",
       " 3: 0.04755877034358047,\n",
       " 4: 0.042787286063569685,\n",
       " 5: 0.042693661971830985,\n",
       " 6: 0.04296160877513711,\n",
       " 7: 0.0423572744014733,\n",
       " 8: 0.06319702602230483,\n",
       " 9: 0.06818181818181818,\n",
       " 10: 0.06153846153846154,\n",
       " 11: 0.0}"
      ]
     },
     "execution_count": 108,
     "metadata": {},
     "output_type": "execute_result"
    }
   ],
   "source": [
    "results_dict"
   ]
  },
  {
   "cell_type": "markdown",
   "id": "e780eb9c-3906-42d3-96cd-89ccc907ef43",
   "metadata": {},
   "source": [
    "## P(Wicket) | Wicket"
   ]
  },
  {
   "cell_type": "code",
   "execution_count": 122,
   "id": "1ad47951-cc27-476f-9dab-4cdeb91bedb7",
   "metadata": {},
   "outputs": [],
   "source": [
    "def probability_wicket_within_x_deliveries(df, num_deliveries):\n",
    "    \"\"\"\n",
    "    Calculate the probability of a wicket falling within x deliveries after another wicket.\n",
    "    \n",
    "    Args:\n",
    "    - df (pd.DataFrame): Cricket data with 'Match ID', 'innings', 'over', 'ball', 'wicket'.\n",
    "    - num_deliveries (int): Number of deliveries to check after a wicket.\n",
    "\n",
    "    Returns:\n",
    "    - float: Probability of a wicket falling within x deliveries after another wicket.\n",
    "    \"\"\"\n",
    "    # Step 1: Sort and reset index for proper ordering\n",
    "    df = df.sort_values(by=['Match Id', 'MatchInnings', 'Over', 'Ball In Over']).reset_index(drop=True)\n",
    "    \n",
    "    # Step 2: Initialize a column to track if a wicket occurs within x deliveries\n",
    "    df['wicket_within_x'] = 0\n",
    "\n",
    "    # Step 3: Group by match and innings\n",
    "    for (match_id, innings), group in df.groupby(['Match Id', 'MatchInnings']):\n",
    "        # Find indices where a wicket occurs\n",
    "        wicket_indices = group[group['wicket'] == 1].index\n",
    "        \n",
    "        # For each wicket, flag the next `x` deliveries\n",
    "        for idx in wicket_indices:\n",
    "            next_indices = range(idx + 1, idx + 1 + num_deliveries)\n",
    "            # Ensure indices are within the bounds of the group\n",
    "            valid_indices = [i for i in next_indices if i < group.index[-1] + 1]\n",
    "            df.loc[valid_indices, 'wicket_within_x'] = 1\n",
    "    \n",
    "    # Step 4: Filter rows flagged within x deliveries\n",
    "    filtered_df = df[df['wicket_within_x'] == 1]\n",
    "    \n",
    "    # Step 5: Calculate probability of a wicket\n",
    "    if not filtered_df.empty:\n",
    "        probability_of_wicket = filtered_df['wicket'].mean()\n",
    "    else:\n",
    "        probability_of_wicket = 0  # No wickets within x deliveries\n",
    "    \n",
    "    return probability_of_wicket\n"
   ]
  },
  {
   "cell_type": "code",
   "execution_count": 123,
   "id": "98a0ca7b-de29-4847-b236-826126763d34",
   "metadata": {},
   "outputs": [],
   "source": [
    "results_dict = {}\n",
    "for dot_balls in range(1,6):\n",
    "    results_dict[dot_balls] = probability_wicket_within_x_deliveries(df,dot_balls)"
   ]
  },
  {
   "cell_type": "code",
   "execution_count": 124,
   "id": "ccfaa7e9-72cf-44a3-91fd-bb196ff2f8b6",
   "metadata": {},
   "outputs": [
    {
     "data": {
      "text/plain": [
       "{1: 0.051277199621570485,\n",
       " 2: 0.050639710909268484,\n",
       " 3: 0.05217216141811589,\n",
       " 4: 0.052332077432766015,\n",
       " 5: 0.052627065960685115}"
      ]
     },
     "execution_count": 124,
     "metadata": {},
     "output_type": "execute_result"
    }
   ],
   "source": [
    "results_dict"
   ]
  },
  {
   "cell_type": "markdown",
   "id": "c95f7cbc-9997-468e-ad7f-5b3658f783b3",
   "metadata": {},
   "source": [
    "## P(Wicket) | Over"
   ]
  },
  {
   "cell_type": "code",
   "execution_count": 7,
   "id": "88de3e2d-3036-4e27-a1ab-2b61644e7ded",
   "metadata": {},
   "outputs": [
    {
     "data": {
      "text/plain": [
       "Text(0, 0.5, 'Average Wickets')"
      ]
     },
     "execution_count": 7,
     "metadata": {},
     "output_type": "execute_result"
    },
    {
     "data": {
      "image/png": "[encoded data removed]",
      "text/plain": [
       "<Figure size 640x480 with 1 Axes>"
      ]
     },
     "metadata": {},
     "output_type": "display_data"
    }
   ],
   "source": [
    "ax = sns.barplot(data=df.loc[df['MatchInnings']<=2].groupby(['MatchInnings', 'Over']).agg({'wicket':'mean'}).reset_index(),x='Over',y='wicket')\n",
    "ax.set_title('Average Wickets per Over')\n",
    "ax.set_ylabel('Average Wickets')"
   ]
  }
 ],
 "metadata": {
  "kernelspec": {
   "display_name": "Python 3 (ipykernel)",
   "language": "python",
   "name": "python3"
  },
  "language_info": {
   "codemirror_mode": {
    "name": "ipython",
    "version": 3
   },
   "file_extension": ".py",
   "mimetype": "text/x-python",
   "name": "python",
   "nbconvert_exporter": "python",
   "pygments_lexer": "ipython3",
   "version": "3.8.9"
  }
 },
 "nbformat": 4,
 "nbformat_minor": 5
}
